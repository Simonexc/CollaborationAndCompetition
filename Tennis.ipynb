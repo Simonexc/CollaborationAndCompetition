{
 "cells": [
  {
   "cell_type": "markdown",
   "metadata": {},
   "source": [
    "# Collaboration and Competition\n",
    "\n",
    "---\n",
    "\n",
    "In this notebook, you will learn how to use the Unity ML-Agents environment for the third project of the [Deep Reinforcement Learning Nanodegree](https://www.udacity.com/course/deep-reinforcement-learning-nanodegree--nd893) program.\n",
    "\n",
    "### 1. Start the Environment\n",
    "\n",
    "We begin by importing the necessary packages.  If the code cell below returns an error, please revisit the project instructions to double-check that you have installed [Unity ML-Agents](https://github.com/Unity-Technologies/ml-agents/blob/master/docs/Installation.md) and [NumPy](http://www.numpy.org/)."
   ]
  },
  {
   "cell_type": "code",
   "execution_count": 1,
   "metadata": {},
   "outputs": [],
   "source": [
    "from unityagents import UnityEnvironment\n",
    "import numpy as np"
   ]
  },
  {
   "cell_type": "markdown",
   "metadata": {},
   "source": [
    "Next, we will start the environment!  **_Before running the code cell below_**, change the `file_name` parameter to match the location of the Unity environment that you downloaded.\n",
    "\n",
    "- **Mac**: `\"path/to/Tennis.app\"`\n",
    "- **Windows** (x86): `\"path/to/Tennis_Windows_x86/Tennis.exe\"`\n",
    "- **Windows** (x86_64): `\"path/to/Tennis_Windows_x86_64/Tennis.exe\"`\n",
    "- **Linux** (x86): `\"path/to/Tennis_Linux/Tennis.x86\"`\n",
    "- **Linux** (x86_64): `\"path/to/Tennis_Linux/Tennis.x86_64\"`\n",
    "- **Linux** (x86, headless): `\"path/to/Tennis_Linux_NoVis/Tennis.x86\"`\n",
    "- **Linux** (x86_64, headless): `\"path/to/Tennis_Linux_NoVis/Tennis.x86_64\"`\n",
    "\n",
    "For instance, if you are using a Mac, then you downloaded `Tennis.app`.  If this file is in the same folder as the notebook, then the line below should appear as follows:\n",
    "```\n",
    "env = UnityEnvironment(file_name=\"Tennis.app\")\n",
    "```"
   ]
  },
  {
   "cell_type": "code",
   "execution_count": 2,
   "metadata": {},
   "outputs": [
    {
     "name": "stderr",
     "output_type": "stream",
     "text": [
      "INFO:unityagents:\n",
      "'Academy' started successfully!\n",
      "Unity Academy name: Academy\n",
      "        Number of Brains: 1\n",
      "        Number of External Brains : 1\n",
      "        Lesson number : 0\n",
      "        Reset Parameters :\n",
      "\t\t\n",
      "Unity brain name: TennisBrain\n",
      "        Number of Visual Observations (per agent): 0\n",
      "        Vector Observation space type: continuous\n",
      "        Vector Observation space size (per agent): 8\n",
      "        Number of stacked Vector Observation: 3\n",
      "        Vector Action space type: continuous\n",
      "        Vector Action space size (per agent): 2\n",
      "        Vector Action descriptions: , \n"
     ]
    }
   ],
   "source": [
    "env = UnityEnvironment(file_name=\"Tennis_Windows_x86_64/Tennis.exe\")"
   ]
  },
  {
   "cell_type": "markdown",
   "metadata": {},
   "source": [
    "Environments contain **_brains_** which are responsible for deciding the actions of their associated agents. Here we check for the first brain available, and set it as the default brain we will be controlling from Python."
   ]
  },
  {
   "cell_type": "code",
   "execution_count": 3,
   "metadata": {},
   "outputs": [],
   "source": [
    "# get the default brain\n",
    "brain_name = env.brain_names[0]\n",
    "brain = env.brains[brain_name]"
   ]
  },
  {
   "cell_type": "markdown",
   "metadata": {},
   "source": [
    "### 2. Examine the State and Action Spaces\n",
    "\n",
    "In this environment, two agents control rackets to bounce a ball over a net. If an agent hits the ball over the net, it receives a reward of +0.1.  If an agent lets a ball hit the ground or hits the ball out of bounds, it receives a reward of -0.01.  Thus, the goal of each agent is to keep the ball in play.\n",
    "\n",
    "The observation space consists of 8 variables corresponding to the position and velocity of the ball and racket. Two continuous actions are available, corresponding to movement toward (or away from) the net, and jumping. \n",
    "\n",
    "Run the code cell below to print some information about the environment."
   ]
  },
  {
   "cell_type": "code",
   "execution_count": 4,
   "metadata": {},
   "outputs": [
    {
     "name": "stdout",
     "output_type": "stream",
     "text": [
      "Number of agents: 2\n",
      "Size of each action: 2\n",
      "There are 2 agents. Each observes a state with length: 24\n",
      "The state for the first agent looks like: [ 0.          0.          0.          0.          0.          0.\n",
      "  0.          0.          0.          0.          0.          0.\n",
      "  0.          0.          0.          0.         -6.65278625 -1.5\n",
      " -0.          0.          6.83172083  6.         -0.          0.        ]\n",
      "[ 0.          0.          0.          0.          0.          0.\n",
      "  0.          0.          0.          0.          0.          0.\n",
      "  0.          0.          0.          0.         -6.4669857  -1.5\n",
      "  0.          0.         -6.83172083  6.          0.          0.        ]\n"
     ]
    }
   ],
   "source": [
    "# reset the environment\n",
    "env_info = env.reset(train_mode=True)[brain_name]\n",
    "\n",
    "# number of agents \n",
    "num_agents = len(env_info.agents)\n",
    "print('Number of agents:', num_agents)\n",
    "\n",
    "# size of each action\n",
    "action_size = brain.vector_action_space_size\n",
    "print('Size of each action:', action_size)\n",
    "\n",
    "# examine the state space \n",
    "states = env_info.vector_observations\n",
    "state_size = states.shape[1]\n",
    "print('There are {} agents. Each observes a state with length: {}'.format(states.shape[0], state_size))\n",
    "print('The state for the first agent looks like:', states[0])\n",
    "print(states[1])"
   ]
  },
  {
   "cell_type": "markdown",
   "metadata": {},
   "source": [
    "### 3. Take Random Actions in the Environment\n",
    "\n",
    "In the next code cell, you will learn how to use the Python API to control the agents and receive feedback from the environment.\n",
    "\n",
    "Once this cell is executed, you will watch the agents' performance, if they select actions at random with each time step.  A window should pop up that allows you to observe the agents.\n",
    "\n",
    "Of course, as part of the project, you'll have to change the code so that the agents are able to use their experiences to gradually choose better actions when interacting with the environment!"
   ]
  },
  {
   "cell_type": "code",
   "execution_count": 5,
   "metadata": {},
   "outputs": [
    {
     "name": "stdout",
     "output_type": "stream",
     "text": [
      "Score (max over agents) from episode 1: 0.0\n",
      "Score (max over agents) from episode 2: 0.0\n",
      "Score (max over agents) from episode 3: 0.0\n",
      "Score (max over agents) from episode 4: 0.0\n",
      "Score (max over agents) from episode 5: 0.09000000171363354\n"
     ]
    }
   ],
   "source": [
    "for i in range(1, 6):                                      # play game for 5 episodes\n",
    "    env_info = env.reset(train_mode=False)[brain_name]     # reset the environment    \n",
    "    states = env_info.vector_observations                  # get the current state (for each agent)\n",
    "    scores = np.zeros(num_agents)                          # initialize the score (for each agent)\n",
    "    while True:\n",
    "        actions = np.random.randn(num_agents, action_size) # select an action (for each agent)\n",
    "        actions = np.clip(actions, -1, 1)                  # all actions between -1 and 1\n",
    "        env_info = env.step(actions)[brain_name]           # send all actions to tne environment\n",
    "        next_states = env_info.vector_observations         # get next state (for each agent)\n",
    "        rewards = env_info.rewards                         # get reward (for each agent)\n",
    "        dones = env_info.local_done                        # see if episode finished\n",
    "        scores += env_info.rewards                         # update the score (for each agent)\n",
    "        states = next_states                               # roll over states to next time step\n",
    "        if np.any(dones):                                  # exit loop if episode finished\n",
    "            break\n",
    "    print('Score (max over agents) from episode {}: {}'.format(i, np.max(scores)))"
   ]
  },
  {
   "cell_type": "markdown",
   "metadata": {},
   "source": [
    "When finished, you can close the environment."
   ]
  },
  {
   "cell_type": "code",
   "execution_count": 11,
   "metadata": {},
   "outputs": [],
   "source": [
    "env.close()"
   ]
  },
  {
   "cell_type": "markdown",
   "metadata": {},
   "source": [
    "### 4. It's Your Turn!\n",
    "\n",
    "Now it's your turn to train your own agent to solve the environment!  When training the environment, set `train_mode=True`, so that the line for resetting the environment looks like the following:\n",
    "```python\n",
    "env_info = env.reset(train_mode=True)[brain_name]\n",
    "```"
   ]
  },
  {
   "cell_type": "code",
   "execution_count": 5,
   "metadata": {},
   "outputs": [],
   "source": [
    "import torch\n",
    "from collections import deque\n",
    "import pandas as pd\n",
    "import json\n",
    "\n",
    "def test(agent):\n",
    "    env_info = env.reset(train_mode=True)[brain_name]\n",
    "    num_agents = len(env_info.agents)\n",
    "    states = env_info.vector_observations\n",
    "    scores = np.zeros(num_agents)\n",
    "    dones = np.array([False for _ in range(num_agents)])\n",
    "    for _ in range(1000):\n",
    "        actions = agent.act(states, add_noise=False)\n",
    "        env_info = env.step(actions.astype(np.int32))[brain_name]        # send the action to the environment\n",
    "        states = env_info.vector_observations   # get the next state\n",
    "        rewards = env_info.rewards                   # get the reward\n",
    "        dones = env_info.local_done                  # see if episode has finished\n",
    "        scores += rewards\n",
    "        if np.any(dones):\n",
    "            break\n",
    "    return np.max(scores)\n",
    "\n",
    "def ddpg(agent, folder, n_episodes=300, max_t=1000, print_every=100):\n",
    "    scores_deque = deque(maxlen=print_every)\n",
    "    tot_scores = []\n",
    "    tot_test_scores = []\n",
    "    max_score = 0\n",
    "    for i_episode in range(1, n_episodes+1):\n",
    "        env_info = env.reset(train_mode=True)[brain_name]\n",
    "        states = env_info.vector_observations\n",
    "        scores = np.zeros(num_agents)\n",
    "        for t in range(max_t):\n",
    "            actions = agent.act(states, add_noise=True)\n",
    "            env_info = env.step(actions.astype(np.int32))[brain_name]\n",
    "            next_states = env_info.vector_observations\n",
    "            rewards = env_info.rewards\n",
    "            dones = env_info.local_done\n",
    "            agent.step(states, actions, rewards, next_states, dones)\n",
    "            \n",
    "            states = next_states\n",
    "            scores += rewards\n",
    "            if np.any(dones):\n",
    "                break \n",
    "        score = max(scores)\n",
    "        scores_deque.append(score)\n",
    "        tot_scores.append(score)\n",
    "        print('\\rEpisode {}\\tAverage Score: {:.2f} noise: {:.6f}'.format(i_episode, np.mean(scores_deque), agent.agents[0].noise_scalar), end=\"\")\n",
    "        try:\n",
    "            df = pd.DataFrame(tot_scores)\n",
    "            df.to_csv(f\"{folder}/scores.csv\", index=False)\n",
    "        except PermissionError:\n",
    "            # prevents crashes\n",
    "            pass\n",
    "        \n",
    "        if i_episode % print_every == 0:\n",
    "            print('\\rEpisode {}\\tAverage Score: {:.2f}'.format(i_episode, np.mean(scores_deque)))\n",
    "            # test performance\n",
    "            test_scores = []\n",
    "            for i in range(100):\n",
    "                test_scores.append(test(agent))\n",
    "            tot_test_scores.append(test_scores)\n",
    "            mean_score = np.array(test_scores).mean()\n",
    "            try:\n",
    "                with open(f\"{folder}/test_scores.json\", \"w\") as file:\n",
    "                    file.write(json.dumps(tot_test_scores))\n",
    "                    \n",
    "            except PermissionError:\n",
    "                # prevents crashes\n",
    "                print(\"Couldn't save test scores\")\n",
    "                \n",
    "            print(f\"\\rAverage test score over 100 episodes: {mean_score}\")\n",
    "            if mean_score > max_score:\n",
    "                print(f\"New max score: {max_score} -> {mean_score}\")\n",
    "                max_score = mean_score\n",
    "                \n",
    "                try:\n",
    "                    torch.save(agent.agents[0].actor_local.state_dict(), f'{folder}/checkpoint_actor.pth')\n",
    "                    torch.save(agent.agents[0].critic_local.state_dict(), f'{folder}/checkpoint_critic.pth')\n",
    "                except PermissionError:\n",
    "                    # prevents crashes\n",
    "                    print(\"Couldn't save models\")\n",
    "                else:\n",
    "                    print(\"Models saved\")\n",
    "                \n",
    "            \n",
    "    return tot_scores, tot_test_scores"
   ]
  },
  {
   "cell_type": "code",
   "execution_count": 10,
   "metadata": {},
   "outputs": [],
   "source": [
    "ver_name = \"v5.5\"\n",
    "hyperparameters = {\n",
    "    \"ddpg\": {\n",
    "        \"lr_actor\": 1e-4,\n",
    "        \"lr_critic\": 3e-4,\n",
    "        \"actor_l1\": 300,\n",
    "        \"actor_l2\": 150,\n",
    "        \"critic_l1\": 400,\n",
    "        \"critic_l2\": 200,\n",
    "        \"noise_scalar\": 0.25,\n",
    "        \"noise_decay\": 1,\n",
    "    },\n",
    "    \"multi_agent\": {\n",
    "        \"learn_every_t_steps\": 10,\n",
    "        \"learn_n_times\": 20,\n",
    "    }\n",
    "}"
   ]
  },
  {
   "cell_type": "code",
   "execution_count": 11,
   "metadata": {},
   "outputs": [],
   "source": [
    "import json\n",
    "import os\n",
    "from maddpg import MultiAgent\n",
    "from ddpg_agent import DDPGAgent\n",
    "\n",
    "def create_agent(params):\n",
    "    ddpg = DDPGAgent(\n",
    "        state_size=24,\n",
    "        full_state_size=24*2,\n",
    "        action_size=2,\n",
    "        full_action_size=2*2,\n",
    "        **params[\"ddpg\"],\n",
    "    )\n",
    "    return MultiAgent(\n",
    "        agents=[ddpg, ddpg],\n",
    "        **params[\"multi_agent\"],\n",
    "    )\n",
    "\n",
    "def train(ver, params, agent=None, episodes=300):\n",
    "    new_path = f\"training/run{ver}\"\n",
    "    if os.path.exists(new_path):\n",
    "        raise Exception(\"this version already exists\")\n",
    "    os.mkdir(new_path)\n",
    "    with open(f\"{new_path}/checkpoint.json\", \"w\") as file:\n",
    "        file.write(json.dumps(params))\n",
    "        \n",
    "    agent = agent or create_agent(params)\n",
    "    return *ddpg(agent, new_path, n_episodes=episodes, print_every=100), agent\n",
    "\n",
    "def agent_from_ver(ver):\n",
    "    folder = f\"training/run{ver}\"\n",
    "    with open(f\"{folder}/checkpoint.json\", \"rb\") as file:\n",
    "        params = json.load(file)\n",
    "    agent = create_agent(params)\n",
    "    agent.agents[0].actor_local.load_state_dict(torch.load(f'{folder}/checkpoint_actor.pth'))\n",
    "    agent.agents[0].critic_local.load_state_dict(torch.load(f'{folder}/checkpoint_critic.pth'))\n",
    "    agent.agents[0].soft_update(agent.agents[0].actor_local, agent.agents[0].actor_target, 1)\n",
    "    agent.agents[0].soft_update(agent.agents[0].critic_local, agent.agents[0].critic_target, 1)\n",
    "    \n",
    "    return agent"
   ]
  },
  {
   "cell_type": "code",
   "execution_count": 12,
   "metadata": {},
   "outputs": [
    {
     "name": "stdout",
     "output_type": "stream",
     "text": [
      "Episode 100\tAverage Score: 0.09 noise: 0.250000\n",
      "Average test score over 100 episodes: 0.09980000160634518\n",
      "New max score: 0 -> 0.09980000160634518\n",
      "Models saved\n",
      "Episode 200\tAverage Score: 0.09 noise: 0.250000\n",
      "Average test score over 100 episodes: 0.18960000285878778\n",
      "New max score: 0.09980000160634518 -> 0.18960000285878778\n",
      "Models saved\n",
      "Episode 300\tAverage Score: 0.09 noise: 0.250000\n",
      "Average test score over 100 episodes: 0.10940000176429748\n",
      "Episode 400\tAverage Score: 0.10 noise: 0.250000\n",
      "Average test score over 100 episodes: 0.3432000051997602\n",
      "New max score: 0.18960000285878778 -> 0.3432000051997602\n",
      "Models saved\n",
      "Episode 500\tAverage Score: 0.10 noise: 0.250000\n",
      "Average test score over 100 episodes: 0.1942000030167401\n",
      "Episode 600\tAverage Score: 0.10 noise: 0.250000\n",
      "Average test score over 100 episodes: 0.25500000413507223\n",
      "Episode 700\tAverage Score: 0.08 noise: 0.250000\n",
      "Average test score over 100 episodes: 0.09340000150725246\n",
      "Episode 800\tAverage Score: 0.10 noise: 0.250000\n",
      "Average test score over 100 episodes: 0.22440000358968973\n",
      "Episode 900\tAverage Score: 0.10 noise: 0.250000\n",
      "Average test score over 100 episodes: 0.23030000371858478\n",
      "Episode 1000\tAverage Score: 0.10 noise: 0.250000\n",
      "Average test score over 100 episodes: 0.19090000303462148\n",
      "Episode 1100\tAverage Score: 0.11 noise: 0.250000\n",
      "Average test score over 100 episodes: 0.22890000358223916\n",
      "Episode 1200\tAverage Score: 0.11 noise: 0.250000\n",
      "Average test score over 100 episodes: 0.22080000372603537\n",
      "Episode 1300\tAverage Score: 0.12 noise: 0.250000\n",
      "Average test score over 100 episodes: 0.30400000464171173\n",
      "Episode 1400\tAverage Score: 0.10 noise: 0.250000\n",
      "Average test score over 100 episodes: 0.2590000042133033\n",
      "Episode 1500\tAverage Score: 0.13 noise: 0.250000\n",
      "Average test score over 100 episodes: 0.39020000616088507\n",
      "New max score: 0.3432000051997602 -> 0.39020000616088507\n",
      "Models saved\n",
      "Episode 1600\tAverage Score: 0.11 noise: 0.250000\n",
      "Average test score over 100 episodes: 0.43940000688657166\n",
      "New max score: 0.39020000616088507 -> 0.43940000688657166\n",
      "Models saved\n",
      "Episode 1700\tAverage Score: 0.13 noise: 0.250000\n",
      "Average test score over 100 episodes: 0.8049000122025609\n",
      "New max score: 0.43940000688657166 -> 0.8049000122025609\n",
      "Models saved\n",
      "Episode 1800\tAverage Score: 0.11 noise: 0.250000\n",
      "Average test score over 100 episodes: 0.4345000067539513\n",
      "Episode 1900\tAverage Score: 0.11 noise: 0.250000\n",
      "Average test score over 100 episodes: 0.5352000084891916\n",
      "Episode 2000\tAverage Score: 0.13 noise: 0.250000\n",
      "Average test score over 100 episodes: 1.2542000188305975\n",
      "New max score: 0.8049000122025609 -> 1.2542000188305975\n",
      "Models saved\n",
      "Episode 2100\tAverage Score: 0.15 noise: 0.250000\n",
      "Average test score over 100 episodes: 1.2152000182121991\n",
      "Episode 2200\tAverage Score: 0.15 noise: 0.250000\n",
      "Average test score over 100 episodes: 1.2410000186413526\n",
      "Episode 2300\tAverage Score: 0.10 noise: 0.250000\n",
      "Average test score over 100 episodes: 0.4290000067092478\n",
      "Episode 2400\tAverage Score: 0.12 noise: 0.250000\n",
      "Average test score over 100 episodes: 1.096600016579032\n",
      "Episode 2500\tAverage Score: 0.14 noise: 0.250000\n",
      "Average test score over 100 episodes: 1.853900027628988\n",
      "New max score: 1.2542000188305975 -> 1.853900027628988\n",
      "Models saved\n",
      "Episode 2600\tAverage Score: 0.14 noise: 0.250000\n",
      "Average test score over 100 episodes: 1.2905000193417073\n",
      "Episode 2700\tAverage Score: 0.12 noise: 0.250000\n",
      "Average test score over 100 episodes: 0.9813000149466098\n",
      "Episode 2800\tAverage Score: 0.16 noise: 0.250000\n",
      "Average test score over 100 episodes: 0.2908000046946108\n",
      "Episode 2900\tAverage Score: 0.17 noise: 0.250000\n",
      "Average test score over 100 episodes: 1.8742000281065703\n",
      "New max score: 1.853900027628988 -> 1.8742000281065703\n",
      "Models saved\n",
      "Episode 3000\tAverage Score: 0.18 noise: 0.250000\n",
      "Average test score over 100 episodes: 1.4317000218108296\n",
      "Episode 3100\tAverage Score: 0.18 noise: 0.250000\n",
      "Average test score over 100 episodes: 1.744900026023388\n",
      "Episode 3200\tAverage Score: 0.15 noise: 0.250000\n",
      "Average test score over 100 episodes: 0.617600009739399\n",
      "Episode 3300\tAverage Score: 0.15 noise: 0.250000\n",
      "Average test score over 100 episodes: 1.9728000294417143\n",
      "New max score: 1.8742000281065703 -> 1.9728000294417143\n",
      "Models saved\n",
      "Episode 3400\tAverage Score: 0.16 noise: 0.250000\n",
      "Average test score over 100 episodes: 1.9597000292688609\n",
      "Episode 3500\tAverage Score: 0.17 noise: 0.250000\n",
      "Average test score over 100 episodes: 2.3180000345408915\n",
      "New max score: 1.9728000294417143 -> 2.3180000345408915\n",
      "Models saved\n",
      "Episode 3600\tAverage Score: 0.15 noise: 0.250000\n",
      "Average test score over 100 episodes: 0.3085000048018992\n",
      "Episode 3700\tAverage Score: 0.18 noise: 0.250000\n",
      "Average test score over 100 episodes: 0.37400000598281624\n",
      "Episode 3800\tAverage Score: 0.16 noise: 0.250000\n",
      "Average test score over 100 episodes: 0.3662000055611134\n",
      "Episode 3900\tAverage Score: 0.14 noise: 0.250000\n",
      "Average test score over 100 episodes: 0.2901000046730042\n",
      "Episode 4000\tAverage Score: 0.13 noise: 0.250000\n",
      "Average test score over 100 episodes: 0.3483000055141747\n",
      "Episode 4100\tAverage Score: 0.15 noise: 0.250000\n",
      "Average test score over 100 episodes: 0.18250000277534129\n",
      "Episode 4200\tAverage Score: 0.13 noise: 0.250000\n",
      "Average test score over 100 episodes: 0.1926000029593706\n",
      "Episode 4300\tAverage Score: 0.16 noise: 0.250000\n",
      "Average test score over 100 episodes: 0.5902000089175999\n",
      "Episode 4400\tAverage Score: 0.13 noise: 0.250000\n",
      "Average test score over 100 episodes: 0.2611000040732324\n",
      "Episode 4500\tAverage Score: 0.13 noise: 0.250000\n",
      "Average test score over 100 episodes: 0.36190000554546714\n",
      "Episode 4600\tAverage Score: 0.12 noise: 0.250000\n",
      "Average test score over 100 episodes: 2.2990000342577694\n",
      "Episode 4700\tAverage Score: 0.14 noise: 0.250000\n",
      "Average test score over 100 episodes: 1.9640000292658806\n",
      "Episode 4800\tAverage Score: 0.16 noise: 0.250000\n",
      "Average test score over 100 episodes: 2.3950000356882812\n",
      "New max score: 2.3180000345408915 -> 2.3950000356882812\n",
      "Models saved\n",
      "Episode 4900\tAverage Score: 0.14 noise: 0.250000\n",
      "Average test score over 100 episodes: 2.078000030964613\n",
      "Episode 5000\tAverage Score: 0.14 noise: 0.250000\n",
      "Average test score over 100 episodes: 2.205900032874197\n",
      "Episode 5100\tAverage Score: 0.14 noise: 0.250000\n",
      "Average test score over 100 episodes: 2.281800034046173\n",
      "Episode 5200\tAverage Score: 0.12 noise: 0.250000\n",
      "Average test score over 100 episodes: 2.3540000350773336\n",
      "Episode 5300\tAverage Score: 0.16 noise: 0.250000\n",
      "Average test score over 100 episodes: 0.5345000082813204\n",
      "Episode 5400\tAverage Score: 0.16 noise: 0.250000\n",
      "Average test score over 100 episodes: 2.2500000335276127\n",
      "Episode 5500\tAverage Score: 0.13 noise: 0.250000\n",
      "Average test score over 100 episodes: 1.676800025254488\n",
      "Episode 5600\tAverage Score: 0.14 noise: 0.250000\n",
      "Average test score over 100 episodes: 2.0060000298917293\n",
      "Episode 5700\tAverage Score: 0.13 noise: 0.250000\n",
      "Average test score over 100 episodes: 2.1339000318013133\n",
      "Episode 5800\tAverage Score: 0.14 noise: 0.250000\n",
      "Average test score over 100 episodes: 2.552000038027763\n",
      "New max score: 2.3950000356882812 -> 2.552000038027763\n",
      "Models saved\n",
      "Episode 5900\tAverage Score: 0.15 noise: 0.250000\n",
      "Average test score over 100 episodes: 1.2000000178813934\n",
      "Episode 6000\tAverage Score: 0.14 noise: 0.250000\n",
      "Average test score over 100 episodes: 2.176000032424927\n"
     ]
    }
   ],
   "source": [
    "# agent = agent_from_ver(\"v2.7\")\n",
    "# continue training on the previously trained network\n",
    "scores, test_scores, agent = train(ver_name, hyperparameters, agent=agent, episodes=6000)"
   ]
  },
  {
   "cell_type": "code",
   "execution_count": 14,
   "metadata": {},
   "outputs": [],
   "source": [
    "folder = f\"training/run{ver_name}\"\n",
    "torch.save(agent.agents[0].actor_local.state_dict(), f'{folder}/checkpoint_actor_last.pth')\n",
    "torch.save(agent.agents[0].critic_local.state_dict(), f'{folder}/checkpoint_critic_last.pth')"
   ]
  },
  {
   "cell_type": "code",
   "execution_count": 15,
   "metadata": {},
   "outputs": [],
   "source": [
    "import matplotlib.pyplot as plt\n",
    "\n",
    "def moving_average(a, n=3) :\n",
    "    ret = np.cumsum(a, dtype=float)\n",
    "    ret[n:] = ret[n:] - ret[:-n]\n",
    "    return ret[n-1:] / n\n",
    "    \n",
    "def overlay_moving_average(title, score, n):\n",
    "    fig = plt.figure()\n",
    "    ax = fig.add_subplot(111)\n",
    "    avg = moving_average(score, n)\n",
    "    plt.plot(np.arange(len(score)), score)\n",
    "    plt.plot(np.arange(len(avg)) + n, avg)\n",
    "    # plt.plot([0, len(score)], [30, 30], 'r--')\n",
    "    plt.ylabel('Score')\n",
    "    plt.xlabel('Episode #')\n",
    "    plt.xlim(0, len(score))\n",
    "    plt.title(title)\n",
    "    plt.show()"
   ]
  },
  {
   "cell_type": "code",
   "execution_count": 16,
   "metadata": {},
   "outputs": [
    {
     "data": {
      "image/png": "[encoded data removed]",
      "text/plain": [
       "<Figure size 432x288 with 1 Axes>"
      ]
     },
     "metadata": {
      "needs_background": "light"
     },
     "output_type": "display_data"
    }
   ],
   "source": [
    "overlay_moving_average(\"Training scores\", scores, 100)"
   ]
  },
  {
   "cell_type": "code",
   "execution_count": 21,
   "metadata": {},
   "outputs": [
    {
     "data": {
      "image/png": "[encoded data removed]",
      "text/plain": [
       "<Figure size 432x288 with 1 Axes>"
      ]
     },
     "metadata": {
      "needs_background": "light"
     },
     "output_type": "display_data"
    }
   ],
   "source": [
    "mean_test_scores = [np.array(test_results).mean() for test_results in test_scores]\n",
    "plt.plot(np.arange(0, len(scores), 100), mean_test_scores)\n",
    "plt.xlabel(\"Episode #\")\n",
    "plt.ylabel(\"Score\")\n",
    "plt.xlim(0, len(scores))\n",
    "plt.title(\"Test average scores\")\n",
    "plt.show()"
   ]
  },
  {
   "cell_type": "markdown",
   "metadata": {},
   "source": [
    "### Whole training results"
   ]
  },
  {
   "cell_type": "code",
   "execution_count": 25,
   "metadata": {},
   "outputs": [
    {
     "data": {
      "image/png": "[encoded data removed]",
      "text/plain": [
       "<Figure size 432x288 with 1 Axes>"
      ]
     },
     "metadata": {
      "needs_background": "light"
     },
     "output_type": "display_data"
    }
   ],
   "source": [
    "import pandas as pd\n",
    "\n",
    "df = pd.read_csv(f\"training/runv5.0/scores.csv\")\n",
    "previous_scores = df.mean(axis=1).to_numpy()\n",
    "total_scores = np.concatenate([previous_scores, np.array(scores)])\n",
    "overlay_moving_average(\"Total training scores\", total_scores, 100)"
   ]
  },
  {
   "cell_type": "code",
   "execution_count": 30,
   "metadata": {},
   "outputs": [
    {
     "data": {
      "image/png": "[encoded data removed]",
      "text/plain": [
       "<Figure size 432x288 with 1 Axes>"
      ]
     },
     "metadata": {
      "needs_background": "light"
     },
     "output_type": "display_data"
    }
   ],
   "source": [
    "import json\n",
    "\n",
    "with open(f\"training/runv5.0/test_scores.json\", \"rb\") as file:\n",
    "    previous_test_scores = json.load(file)\n",
    "\n",
    "mean_previous_test_scores = [np.array(test_results).mean() for test_results in previous_test_scores]\n",
    "mean_total_test_scores = mean_previous_test_scores + mean_test_scores\n",
    "plt.plot(np.arange(0, len(total_scores), 100), mean_total_test_scores)\n",
    "plt.xlabel(\"Episode #\")\n",
    "plt.ylabel(\"Score\")\n",
    "plt.xlim(0, len(total_scores))\n",
    "plt.title(\"Total test average scores\")\n",
    "plt.show()"
   ]
  },
  {
   "cell_type": "markdown",
   "metadata": {},
   "source": [
    "### Test the agent"
   ]
  },
  {
   "cell_type": "code",
   "execution_count": 35,
   "metadata": {},
   "outputs": [
    {
     "name": "stdout",
     "output_type": "stream",
     "text": [
      "{'ddpg': {'lr_actor': 0.0001, 'lr_critic': 0.0003, 'actor_l1': 300, 'actor_l2': 150, 'critic_l1': 400, 'critic_l2': 200, 'noise_scalar': 0.25, 'noise_decay': 1}, 'multi_agent': {'learn_every_t_steps': 10, 'learn_n_times': 20}}\n",
      "Average test score over 100 episodes: 2.4970000372081995\n"
     ]
    },
    {
     "data": {
      "image/png": "[encoded data removed]",
      "text/plain": [
       "<Figure size 432x288 with 1 Axes>"
      ]
     },
     "metadata": {
      "needs_background": "light"
     },
     "output_type": "display_data"
    }
   ],
   "source": [
    "folder = f\"training/run{ver_name}\"\n",
    "with open(f\"{folder}/checkpoint.json\", \"rb\") as file:\n",
    "    params = json.load(file)\n",
    "print(params)\n",
    "agent = create_agent(params)\n",
    "agent.agents[0].actor_local.load_state_dict(torch.load(f'{folder}/checkpoint_actor.pth'))\n",
    "\n",
    "def test(agent):\n",
    "    env_info = env.reset(train_mode=True)[brain_name]\n",
    "    num_agents = len(env_info.agents)\n",
    "    states = env_info.vector_observations\n",
    "    scores = np.zeros(num_agents)\n",
    "    dones = np.array([False for _ in range(num_agents)])\n",
    "    for _ in range(1000):\n",
    "        actions = agent.act(states, add_noise=False)\n",
    "        env_info = env.step(actions.astype(np.int32))[brain_name]        # send the action to the environment\n",
    "        states = env_info.vector_observations   # get the next state\n",
    "        rewards = env_info.rewards                   # get the reward\n",
    "        dones = env_info.local_done                  # see if episode has finished\n",
    "        scores += rewards\n",
    "        if np.any(dones):\n",
    "            break\n",
    "    return np.max(scores)\n",
    "\n",
    "live_test_scores = []\n",
    "for i in range(100):\n",
    "    live_test_scores.append(test(agent))\n",
    "    \n",
    "mean_test_val = np.array(live_test_scores).mean()\n",
    "print(f\"Average test score over 100 episodes: {mean_test_val}\")\n",
    "plt.plot(live_test_scores)\n",
    "plt.plot([0, 100], [mean_test_val]*2)\n",
    "plt.xlim(0, 100)\n",
    "plt.show()"
   ]
  },
  {
   "cell_type": "markdown",
   "metadata": {},
   "source": [
    "### See the agent perform"
   ]
  },
  {
   "cell_type": "code",
   "execution_count": 15,
   "metadata": {},
   "outputs": [],
   "source": [
    "env_info = env.reset(train_mode=False)[brain_name]\n",
    "states = env_info.vector_observations\n",
    "scores = np.zeros(num_agents)\n",
    "dones = np.array([False for _ in range(num_agents)])\n",
    "for _ in range(1000):\n",
    "    actions = agent.act(states, add_noise=False)\n",
    "    env_info = env.step(actions.astype(np.int32))[brain_name]        # send the action to the environment\n",
    "    states = env_info.vector_observations   # get the next state\n",
    "    rewards = env_info.rewards                   # get the reward\n",
    "    dones = env_info.local_done                  # see if episode has finished\n",
    "    scores += rewards\n",
    "    if np.any(dones):\n",
    "        break\n",
    "print(np.max(scores))"
   ]
  },
  {
   "cell_type": "code",
   "execution_count": 15,
   "metadata": {},
   "outputs": [],
   "source": [
    "env.close()"
   ]
  },
  {
   "cell_type": "code",
   "execution_count": null,
   "metadata": {},
   "outputs": [],
   "source": []
  }
 ],
 "metadata": {
  "kernelspec": {
   "display_name": "Python 3 (ipykernel)",
   "language": "python",
   "name": "python3"
  },
  "language_info": {
   "codemirror_mode": {
    "name": "ipython",
    "version": 3
   },
   "file_extension": ".py",
   "mimetype": "text/x-python",
   "name": "python",
   "nbconvert_exporter": "python",
   "pygments_lexer": "ipython3",
   "version": "3.10.4"
  }
 },
 "nbformat": 4,
 "nbformat_minor": 2
}
