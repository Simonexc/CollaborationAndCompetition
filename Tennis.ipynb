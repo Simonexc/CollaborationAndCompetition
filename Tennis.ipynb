{
 "cells": [
  {
   "cell_type": "markdown",
   "metadata": {},
   "source": [
    "# Collaboration and Competition\n",
    "\n",
    "---\n",
    "\n",
    "In this notebook, you will learn how to use the Unity ML-Agents environment for the third project of the [Deep Reinforcement Learning Nanodegree](https://www.udacity.com/course/deep-reinforcement-learning-nanodegree--nd893) program.\n",
    "\n",
    "### 1. Start the Environment\n",
    "\n",
    "We begin by importing the necessary packages.  If the code cell below returns an error, please revisit the project instructions to double-check that you have installed [Unity ML-Agents](https://github.com/Unity-Technologies/ml-agents/blob/master/docs/Installation.md) and [NumPy](http://www.numpy.org/)."
   ]
  },
  {
   "cell_type": "code",
   "execution_count": 1,
   "metadata": {},
   "outputs": [],
   "source": [
    "from unityagents import UnityEnvironment\n",
    "import numpy as np"
   ]
  },
  {
   "cell_type": "markdown",
   "metadata": {},
   "source": [
    "Next, we will start the environment!  **_Before running the code cell below_**, change the `file_name` parameter to match the location of the Unity environment that you downloaded.\n",
    "\n",
    "- **Mac**: `\"path/to/Tennis.app\"`\n",
    "- **Windows** (x86): `\"path/to/Tennis_Windows_x86/Tennis.exe\"`\n",
    "- **Windows** (x86_64): `\"path/to/Tennis_Windows_x86_64/Tennis.exe\"`\n",
    "- **Linux** (x86): `\"path/to/Tennis_Linux/Tennis.x86\"`\n",
    "- **Linux** (x86_64): `\"path/to/Tennis_Linux/Tennis.x86_64\"`\n",
    "- **Linux** (x86, headless): `\"path/to/Tennis_Linux_NoVis/Tennis.x86\"`\n",
    "- **Linux** (x86_64, headless): `\"path/to/Tennis_Linux_NoVis/Tennis.x86_64\"`\n",
    "\n",
    "For instance, if you are using a Mac, then you downloaded `Tennis.app`.  If this file is in the same folder as the notebook, then the line below should appear as follows:\n",
    "```\n",
    "env = UnityEnvironment(file_name=\"Tennis.app\")\n",
    "```"
   ]
  },
  {
   "cell_type": "code",
   "execution_count": 2,
   "metadata": {},
   "outputs": [
    {
     "name": "stderr",
     "output_type": "stream",
     "text": [
      "INFO:unityagents:\n",
      "'Academy' started successfully!\n",
      "Unity Academy name: Academy\n",
      "        Number of Brains: 1\n",
      "        Number of External Brains : 1\n",
      "        Lesson number : 0\n",
      "        Reset Parameters :\n",
      "\t\t\n",
      "Unity brain name: TennisBrain\n",
      "        Number of Visual Observations (per agent): 0\n",
      "        Vector Observation space type: continuous\n",
      "        Vector Observation space size (per agent): 8\n",
      "        Number of stacked Vector Observation: 3\n",
      "        Vector Action space type: continuous\n",
      "        Vector Action space size (per agent): 2\n",
      "        Vector Action descriptions: , \n"
     ]
    }
   ],
   "source": [
    "env = UnityEnvironment(file_name=\"Tennis_Windows_x86_64/Tennis.exe\")"
   ]
  },
  {
   "cell_type": "markdown",
   "metadata": {},
   "source": [
    "Environments contain **_brains_** which are responsible for deciding the actions of their associated agents. Here we check for the first brain available, and set it as the default brain we will be controlling from Python."
   ]
  },
  {
   "cell_type": "code",
   "execution_count": 3,
   "metadata": {},
   "outputs": [],
   "source": [
    "# get the default brain\n",
    "brain_name = env.brain_names[0]\n",
    "brain = env.brains[brain_name]"
   ]
  },
  {
   "cell_type": "markdown",
   "metadata": {},
   "source": [
    "### 2. Examine the State and Action Spaces\n",
    "\n",
    "In this environment, two agents control rackets to bounce a ball over a net. If an agent hits the ball over the net, it receives a reward of +0.1.  If an agent lets a ball hit the ground or hits the ball out of bounds, it receives a reward of -0.01.  Thus, the goal of each agent is to keep the ball in play.\n",
    "\n",
    "The observation space consists of 8 variables corresponding to the position and velocity of the ball and racket. Two continuous actions are available, corresponding to movement toward (or away from) the net, and jumping. \n",
    "\n",
    "Run the code cell below to print some information about the environment."
   ]
  },
  {
   "cell_type": "code",
   "execution_count": 4,
   "metadata": {},
   "outputs": [
    {
     "name": "stdout",
     "output_type": "stream",
     "text": [
      "Number of agents: 2\n",
      "Size of each action: 2\n",
      "There are 2 agents. Each observes a state with length: 24\n",
      "The state for the first agent looks like: [ 0.          0.          0.          0.          0.          0.\n",
      "  0.          0.          0.          0.          0.          0.\n",
      "  0.          0.          0.          0.         -6.65278625 -1.5\n",
      " -0.          0.          6.83172083  6.         -0.          0.        ]\n",
      "[ 0.          0.          0.          0.          0.          0.\n",
      "  0.          0.          0.          0.          0.          0.\n",
      "  0.          0.          0.          0.         -6.4669857  -1.5\n",
      "  0.          0.         -6.83172083  6.          0.          0.        ]\n"
     ]
    }
   ],
   "source": [
    "# reset the environment\n",
    "env_info = env.reset(train_mode=True)[brain_name]\n",
    "\n",
    "# number of agents \n",
    "num_agents = len(env_info.agents)\n",
    "print('Number of agents:', num_agents)\n",
    "\n",
    "# size of each action\n",
    "action_size = brain.vector_action_space_size\n",
    "print('Size of each action:', action_size)\n",
    "\n",
    "# examine the state space \n",
    "states = env_info.vector_observations\n",
    "state_size = states.shape[1]\n",
    "print('There are {} agents. Each observes a state with length: {}'.format(states.shape[0], state_size))\n",
    "print('The state for the first agent looks like:', states[0])\n",
    "print(states[1])"
   ]
  },
  {
   "cell_type": "markdown",
   "metadata": {},
   "source": [
    "### 3. Take Random Actions in the Environment\n",
    "\n",
    "In the next code cell, you will learn how to use the Python API to control the agents and receive feedback from the environment.\n",
    "\n",
    "Once this cell is executed, you will watch the agents' performance, if they select actions at random with each time step.  A window should pop up that allows you to observe the agents.\n",
    "\n",
    "Of course, as part of the project, you'll have to change the code so that the agents are able to use their experiences to gradually choose better actions when interacting with the environment!"
   ]
  },
  {
   "cell_type": "code",
   "execution_count": 5,
   "metadata": {},
   "outputs": [
    {
     "name": "stdout",
     "output_type": "stream",
     "text": [
      "Score (max over agents) from episode 1: 0.0\n",
      "Score (max over agents) from episode 2: 0.0\n",
      "Score (max over agents) from episode 3: 0.0\n",
      "Score (max over agents) from episode 4: 0.0\n",
      "Score (max over agents) from episode 5: 0.09000000171363354\n"
     ]
    }
   ],
   "source": [
    "for i in range(1, 6):                                      # play game for 5 episodes\n",
    "    env_info = env.reset(train_mode=False)[brain_name]     # reset the environment    \n",
    "    states = env_info.vector_observations                  # get the current state (for each agent)\n",
    "    scores = np.zeros(num_agents)                          # initialize the score (for each agent)\n",
    "    while True:\n",
    "        actions = np.random.randn(num_agents, action_size) # select an action (for each agent)\n",
    "        actions = np.clip(actions, -1, 1)                  # all actions between -1 and 1\n",
    "        env_info = env.step(actions)[brain_name]           # send all actions to tne environment\n",
    "        next_states = env_info.vector_observations         # get next state (for each agent)\n",
    "        rewards = env_info.rewards                         # get reward (for each agent)\n",
    "        dones = env_info.local_done                        # see if episode finished\n",
    "        scores += env_info.rewards                         # update the score (for each agent)\n",
    "        states = next_states                               # roll over states to next time step\n",
    "        if np.any(dones):                                  # exit loop if episode finished\n",
    "            break\n",
    "    print('Score (max over agents) from episode {}: {}'.format(i, np.max(scores)))"
   ]
  },
  {
   "cell_type": "markdown",
   "metadata": {},
   "source": [
    "When finished, you can close the environment."
   ]
  },
  {
   "cell_type": "code",
   "execution_count": 11,
   "metadata": {},
   "outputs": [],
   "source": [
    "env.close()"
   ]
  },
  {
   "cell_type": "markdown",
   "metadata": {},
   "source": [
    "### 4. It's Your Turn!\n",
    "\n",
    "Now it's your turn to train your own agent to solve the environment!  When training the environment, set `train_mode=True`, so that the line for resetting the environment looks like the following:\n",
    "```python\n",
    "env_info = env.reset(train_mode=True)[brain_name]\n",
    "```"
   ]
  },
  {
   "cell_type": "code",
   "execution_count": 5,
   "metadata": {},
   "outputs": [],
   "source": [
    "import torch\n",
    "from collections import deque\n",
    "import pandas as pd\n",
    "import json\n",
    "\n",
    "def test(agent):\n",
    "    env_info = env.reset(train_mode=True)[brain_name]\n",
    "    num_agents = len(env_info.agents)\n",
    "    states = env_info.vector_observations\n",
    "    scores = np.zeros(num_agents)\n",
    "    dones = np.array([False for _ in range(num_agents)])\n",
    "    for _ in range(1000):\n",
    "        actions = agent.act(states, add_noise=False)\n",
    "        env_info = env.step(actions.astype(np.int32))[brain_name]        # send the action to the environment\n",
    "        states = env_info.vector_observations   # get the next state\n",
    "        rewards = env_info.rewards                   # get the reward\n",
    "        dones = env_info.local_done                  # see if episode has finished\n",
    "        scores += rewards\n",
    "        if np.any(dones):\n",
    "            break\n",
    "    return np.max(scores)\n",
    "\n",
    "def ddpg(agent, folder, n_episodes=300, max_t=1000, print_every=100):\n",
    "    scores_deque = deque(maxlen=print_every)\n",
    "    tot_scores = []\n",
    "    max_score = 0\n",
    "    for i_episode in range(1, n_episodes+1):\n",
    "        env_info = env.reset(train_mode=True)[brain_name]\n",
    "        states = env_info.vector_observations\n",
    "        scores = np.zeros(num_agents)\n",
    "        for t in range(max_t):\n",
    "            actions = agent.act(states, add_noise=True)\n",
    "            env_info = env.step(actions.astype(np.int32))[brain_name]\n",
    "            next_states = env_info.vector_observations\n",
    "            rewards = env_info.rewards\n",
    "            dones = env_info.local_done\n",
    "            agent.step(states, actions, rewards, next_states, dones)\n",
    "            \n",
    "            states = next_states\n",
    "            scores += rewards\n",
    "            if np.any(dones):\n",
    "                break \n",
    "        score = max(scores)\n",
    "        scores_deque.append(score)\n",
    "        tot_scores.append(score)\n",
    "        print('\\rEpisode {}\\tAverage Score: {:.2f} noise: {:.6f}'.format(i_episode, np.mean(scores_deque), agent.agents[0].noise_scalar), end=\"\")\n",
    "        try:\n",
    "            torch.save(agent.agents[0].actor_local.state_dict(), f'{folder}/checkpoint_actor.pth')\n",
    "            torch.save(agent.agents[0].critic_local.state_dict(), f'{folder}/checkpoint_critic.pth')\n",
    "            df = pd.DataFrame(tot_scores)\n",
    "            df.to_csv(f\"{folder}/scores.csv\", index=False)\n",
    "        except PermissionError:\n",
    "            # prevents crashes\n",
    "            pass\n",
    "        \n",
    "        if i_episode % print_every == 0:\n",
    "            print('\\rEpisode {}\\tAverage Score: {:.2f}'.format(i_episode, np.mean(scores_deque)))\n",
    "                \n",
    "            \n",
    "    return tot_scores"
   ]
  },
  {
   "cell_type": "code",
   "execution_count": 6,
   "metadata": {},
   "outputs": [],
   "source": [
    "ver_name = \"v6.0\"\n",
    "hyperparameters = {\n",
    "    \"ddpg\": {\n",
    "        \"lr_actor\": 1e-4,\n",
    "        \"lr_critic\": 3e-4,\n",
    "        \"actor_l1\": 300,\n",
    "        \"actor_l2\": 150,\n",
    "        \"critic_l1\": 400,\n",
    "        \"critic_l2\": 200,\n",
    "        \"noise_scalar\": 0.05,\n",
    "        \"noise_decay\": 0.999,\n",
    "    },\n",
    "    \"multi_agent\": {\n",
    "        \"learn_every_t_steps\": 10,\n",
    "        \"learn_n_times\": 20,\n",
    "    }\n",
    "}"
   ]
  },
  {
   "cell_type": "code",
   "execution_count": 7,
   "metadata": {},
   "outputs": [],
   "source": [
    "import json\n",
    "import os\n",
    "from maddpg import MultiAgent\n",
    "from ddpg_agent import DDPGAgent\n",
    "\n",
    "def create_agent(params):\n",
    "    ddpg = DDPGAgent(\n",
    "        state_size=24,\n",
    "        full_state_size=24*2,\n",
    "        action_size=2,\n",
    "        full_action_size=2*2,\n",
    "        **params[\"ddpg\"],\n",
    "    )\n",
    "    return MultiAgent(\n",
    "        agents=[ddpg, ddpg],\n",
    "        **params[\"multi_agent\"],\n",
    "    )\n",
    "\n",
    "def train(ver, params, agent=None, episodes=300):\n",
    "    new_path = f\"training/run{ver}\"\n",
    "    if os.path.exists(new_path):\n",
    "        raise Exception(\"this version already exists\")\n",
    "    os.mkdir(new_path)\n",
    "    with open(f\"{new_path}/checkpoint.json\", \"w\") as file:\n",
    "        file.write(json.dumps(params))\n",
    "        \n",
    "    agent = agent or create_agent(params)\n",
    "    return ddpg(agent, new_path, n_episodes=episodes, print_every=100), agent\n",
    "\n",
    "def agent_from_ver(ver):\n",
    "    folder = f\"training/run{ver}\"\n",
    "    agent = create_agent(hyperparameters)\n",
    "    agent.agents[0].actor_local.load_state_dict(torch.load(f'{folder}/checkpoint_actor.pth'))\n",
    "    agent.agents[0].critic_local.load_state_dict(torch.load(f'{folder}/checkpoint_critic.pth'))\n",
    "    agent.agents[0].soft_update(agent.agents[0].actor_local, agent.agents[0].actor_target, 1)\n",
    "    agent.agents[0].soft_update(agent.agents[0].critic_local, agent.agents[0].critic_target, 1)\n",
    "    \n",
    "    return agent"
   ]
  },
  {
   "cell_type": "code",
   "execution_count": 9,
   "metadata": {},
   "outputs": [
    {
     "name": "stdout",
     "output_type": "stream",
     "text": [
      "Episode 100\tAverage Score: 0.12 noise: 0.000001\n",
      "Episode 200\tAverage Score: 0.23 noise: 0.000000\n",
      "Episode 300\tAverage Score: 0.15 noise: 0.000000\n",
      "Episode 400\tAverage Score: 0.21 noise: 0.000000\n",
      "Episode 500\tAverage Score: 0.27 noise: 0.000000\n",
      "Episode 600\tAverage Score: 0.26 noise: 0.000000\n",
      "Episode 700\tAverage Score: 0.22 noise: 0.000000\n",
      "Episode 800\tAverage Score: 0.18 noise: 0.000000\n",
      "Episode 900\tAverage Score: 0.30 noise: 0.000000\n",
      "Episode 1000\tAverage Score: 0.35 noise: 0.000000\n",
      "Episode 1100\tAverage Score: 0.45 noise: 0.000000\n",
      "Episode 1200\tAverage Score: 0.32 noise: 0.000000\n",
      "Episode 1300\tAverage Score: 0.51 noise: 0.000000\n",
      "Episode 1400\tAverage Score: 0.22 noise: 0.000000\n",
      "Episode 1500\tAverage Score: 0.17 noise: 0.000000\n",
      "Episode 1600\tAverage Score: 0.18 noise: 0.000000\n",
      "Episode 1700\tAverage Score: 0.26 noise: 0.000000\n",
      "Episode 1800\tAverage Score: 2.12 noise: 0.000000\n",
      "Episode 1900\tAverage Score: 2.06 noise: 0.000000\n",
      "Episode 2000\tAverage Score: 1.46 noise: 0.000000\n"
     ]
    }
   ],
   "source": [
    "agent = agent_from_ver(\"v5.5\")\n",
    "# continue training on the previously trained network\n",
    "scores, agent = train(ver_name, hyperparameters, agent=agent, episodes=2000)"
   ]
  },
  {
   "cell_type": "code",
   "execution_count": 10,
   "metadata": {},
   "outputs": [],
   "source": [
    "import matplotlib.pyplot as plt\n",
    "\n",
    "def moving_average(a, n=3) :\n",
    "    ret = np.cumsum(a, dtype=float)\n",
    "    ret[n:] = ret[n:] - ret[:-n]\n",
    "    return ret[n-1:] / n\n",
    "    \n",
    "def overlay_moving_average(title, score, n):\n",
    "    fig = plt.figure()\n",
    "    ax = fig.add_subplot(111)\n",
    "    avg = moving_average(score, n)\n",
    "    plt.plot(np.arange(len(score)), score)\n",
    "    plt.plot(np.arange(len(avg)) + n, avg)\n",
    "    plt.plot([0, len(score)], [0.5, 0.5], 'r--')\n",
    "    plt.ylabel('Score')\n",
    "    plt.xlabel('Episode #')\n",
    "    plt.xlim(0, len(score))\n",
    "    plt.title(title)\n",
    "    plt.show()"
   ]
  },
  {
   "cell_type": "code",
   "execution_count": 11,
   "metadata": {},
   "outputs": [
    {
     "data": {
      "image/png": "[encoded data removed]",
      "text/plain": [
       "<Figure size 432x288 with 1 Axes>"
      ]
     },
     "metadata": {
      "needs_background": "light"
     },
     "output_type": "display_data"
    }
   ],
   "source": [
    "overlay_moving_average(\"Training scores\", scores, 100)"
   ]
  },
  {
   "cell_type": "markdown",
   "metadata": {},
   "source": [
    "### Whole training results"
   ]
  },
  {
   "cell_type": "code",
   "execution_count": 13,
   "metadata": {},
   "outputs": [
    {
     "data": {
      "image/png": "[encoded data removed]",
      "text/plain": [
       "<Figure size 432x288 with 1 Axes>"
      ]
     },
     "metadata": {
      "needs_background": "light"
     },
     "output_type": "display_data"
    }
   ],
   "source": [
    "import pandas as pd\n",
    "\n",
    "df1 = pd.read_csv(f\"training/runv5.0/scores.csv\")\n",
    "previous_scores1 = df1.mean(axis=1).to_numpy()\n",
    "df2 = pd.read_csv(f\"training/runv5.5/scores.csv\")\n",
    "previous_scores2 = df2.mean(axis=1).to_numpy()\n",
    "total_scores = np.concatenate([previous_scores1, previous_scores2, np.array(scores)])\n",
    "overlay_moving_average(\"Total training scores\", total_scores, 100)"
   ]
  },
  {
   "cell_type": "markdown",
   "metadata": {},
   "source": [
    "### Test the agent"
   ]
  },
  {
   "cell_type": "code",
   "execution_count": 14,
   "metadata": {},
   "outputs": [
    {
     "name": "stdout",
     "output_type": "stream",
     "text": [
      "{'ddpg': {'lr_actor': 0.0001, 'lr_critic': 0.0003, 'actor_l1': 300, 'actor_l2': 150, 'critic_l1': 400, 'critic_l2': 200, 'noise_scalar': 0.05, 'noise_decay': 0.999}, 'multi_agent': {'learn_every_t_steps': 10, 'learn_n_times': 20}}\n",
      "Average test score over 100 episodes: 2.419000036045909\n"
     ]
    },
    {
     "data": {
      "image/png": "[encoded data removed]",
      "text/plain": [
       "<Figure size 432x288 with 1 Axes>"
      ]
     },
     "metadata": {
      "needs_background": "light"
     },
     "output_type": "display_data"
    }
   ],
   "source": [
    "folder = f\"training/run{ver_name}\"\n",
    "with open(f\"{folder}/checkpoint.json\", \"rb\") as file:\n",
    "    params = json.load(file)\n",
    "print(params)\n",
    "agent = create_agent(params)\n",
    "# load best agent (I saved it manually during the training around episode 1800)\n",
    "agent.agents[0].actor_local.load_state_dict(torch.load(f'{folder}/checkpoint_actor_top.pth'))\n",
    "\n",
    "def test(agent):\n",
    "    env_info = env.reset(train_mode=True)[brain_name]\n",
    "    num_agents = len(env_info.agents)\n",
    "    states = env_info.vector_observations\n",
    "    scores = np.zeros(num_agents)\n",
    "    dones = np.array([False for _ in range(num_agents)])\n",
    "    for _ in range(1000):\n",
    "        actions = agent.act(states, add_noise=False)\n",
    "        env_info = env.step(actions.astype(np.int32))[brain_name]        # send the action to the environment\n",
    "        states = env_info.vector_observations   # get the next state\n",
    "        rewards = env_info.rewards                   # get the reward\n",
    "        dones = env_info.local_done                  # see if episode has finished\n",
    "        scores += rewards\n",
    "        if np.any(dones):\n",
    "            break\n",
    "    return np.max(scores)\n",
    "\n",
    "live_test_scores = []\n",
    "for i in range(100):\n",
    "    live_test_scores.append(test(agent))\n",
    "    \n",
    "mean_test_val = np.array(live_test_scores).mean()\n",
    "print(f\"Average test score over 100 episodes: {mean_test_val}\")\n",
    "plt.plot(live_test_scores)\n",
    "plt.plot([0, 100], [mean_test_val]*2)\n",
    "plt.xlim(0, 100)\n",
    "plt.show()"
   ]
  },
  {
   "cell_type": "markdown",
   "metadata": {},
   "source": [
    "### See the agent perform"
   ]
  },
  {
   "cell_type": "code",
   "execution_count": 15,
   "metadata": {},
   "outputs": [
    {
     "name": "stdout",
     "output_type": "stream",
     "text": [
      "2.600000038743019\n"
     ]
    }
   ],
   "source": [
    "env_info = env.reset(train_mode=False)[brain_name]\n",
    "states = env_info.vector_observations\n",
    "scores = np.zeros(num_agents)\n",
    "dones = np.array([False for _ in range(num_agents)])\n",
    "for _ in range(1000):\n",
    "    actions = agent.act(states, add_noise=False)\n",
    "    env_info = env.step(actions.astype(np.int32))[brain_name]        # send the action to the environment\n",
    "    states = env_info.vector_observations   # get the next state\n",
    "    rewards = env_info.rewards                   # get the reward\n",
    "    dones = env_info.local_done                  # see if episode has finished\n",
    "    scores += rewards\n",
    "    if np.any(dones):\n",
    "        break\n",
    "print(np.max(scores))"
   ]
  },
  {
   "cell_type": "code",
   "execution_count": 16,
   "metadata": {},
   "outputs": [],
   "source": [
    "env.close()"
   ]
  },
  {
   "cell_type": "code",
   "execution_count": null,
   "metadata": {},
   "outputs": [],
   "source": []
  }
 ],
 "metadata": {
  "kernelspec": {
   "display_name": "Python 3 (ipykernel)",
   "language": "python",
   "name": "python3"
  },
  "language_info": {
   "codemirror_mode": {
    "name": "ipython",
    "version": 3
   },
   "file_extension": ".py",
   "mimetype": "text/x-python",
   "name": "python",
   "nbconvert_exporter": "python",
   "pygments_lexer": "ipython3",
   "version": "3.10.4"
  }
 },
 "nbformat": 4,
 "nbformat_minor": 2
}
